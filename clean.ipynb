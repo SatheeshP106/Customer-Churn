{
 "cells": [
  {
   "cell_type": "code",
   "execution_count": 4,
   "metadata": {},
   "outputs": [
    {
     "name": "stdout",
     "output_type": "stream",
     "text": [
      "Cleaned dataset saved as: final_fixed_merged_data.csv\n"
     ]
    }
   ],
   "source": [
    "import pandas as pd\n",
    " \n",
    "# Load the dataset\n",
    "file_path = \"merged_data.csv\"  # Change this to your local file path\n",
    "df = pd.read_csv(file_path)\n",
    " \n",
    "# Remove duplicates\n",
    "df_cleaned = df.drop_duplicates()\n",
    " \n",
    "# Convert 'score_date' to datetime and retain rows even if parsing fails\n",
    "df_cleaned['score_date'] = pd.to_datetime(df_cleaned['score_date'], errors='coerce')\n",
    " \n",
    "# Fill missing numerical values with the median\n",
    "num_cols = df_cleaned.select_dtypes(include=['number']).columns\n",
    "df_cleaned[num_cols] = df_cleaned[num_cols].fillna(df_cleaned[num_cols].median())\n",
    " \n",
    "# Fill missing categorical values with 'Unknown'\n",
    "cat_cols = df_cleaned.select_dtypes(include=['object']).columns\n",
    "df_cleaned[cat_cols] = df_cleaned[cat_cols].fillna('Unknown')\n",
    " \n",
    "# Ensure binary columns are explicitly int64\n",
    "binary_cols = [col for col in df_cleaned.columns if set(df_cleaned[col].dropna().unique()).issubset({0, 1})]\n",
    "df_cleaned[binary_cols] = df_cleaned[binary_cols].astype('int64')\n",
    " \n",
    "# Convert 'seat_utilization' to float if incorrectly stored as object\n",
    "if 'seat_utilization' in df_cleaned.columns:\n",
    "    df_cleaned['seat_utilization'] = pd.to_numeric(df_cleaned['seat_utilization'], errors='coerce')\n",
    " \n",
    "# Identify columns that should be float (ratios, percentages, revenue, etc.)\n",
    "float_cols = [\n",
    "    'nps_score', 'nps_score_all_time', 'avg_nps_rating', 'avg_nps_rating_all_time',\n",
    "    'current_arr', 'future_arr', 'arr_change', 'fx_impact', 'seat_utilization',\n",
    "    'seat_utilization_M_before', 'agent_utilization'\n",
    "]\n",
    "existing_float_cols = [col for col in float_cols if col in df_cleaned.columns]\n",
    "df_cleaned[existing_float_cols] = df_cleaned[existing_float_cols].astype('float64')\n",
    " \n",
    "# Convert categorical columns to category type (only if they exist)\n",
    "cat_cols = ['id', 'crm_industry_current', 'crm_employee_range']\n",
    "existing_cat_cols = [col for col in cat_cols if col in df_cleaned.columns]\n",
    "df_cleaned[existing_cat_cols] = df_cleaned[existing_cat_cols].astype('category')\n",
    " \n",
    "# Save the cleaned dataset\n",
    "cleaned_file_path = \"final_fixed_merged_data.csv\"\n",
    "df_cleaned.to_csv(cleaned_file_path, index=False)\n",
    " \n",
    "print(f\"Cleaned dataset saved as: {cleaned_file_path}\")"
   ]
  }
 ],
 "metadata": {
  "kernelspec": {
   "display_name": "Python 3",
   "language": "python",
   "name": "python3"
  },
  "language_info": {
   "codemirror_mode": {
    "name": "ipython",
    "version": 3
   },
   "file_extension": ".py",
   "mimetype": "text/x-python",
   "name": "python",
   "nbconvert_exporter": "python",
   "pygments_lexer": "ipython3",
   "version": "3.11.9"
  }
 },
 "nbformat": 4,
 "nbformat_minor": 2
}
